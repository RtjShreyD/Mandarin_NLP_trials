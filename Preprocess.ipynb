{
  "nbformat": 4,
  "nbformat_minor": 0,
  "metadata": {
    "colab": {
      "name": "Preprocess.ipynb",
      "provenance": [],
      "collapsed_sections": [],
      "include_colab_link": true
    },
    "kernelspec": {
      "name": "python3",
      "display_name": "Python 3"
    }
  },
  "cells": [
    {
      "cell_type": "markdown",
      "metadata": {
        "id": "view-in-github",
        "colab_type": "text"
      },
      "source": [
        "<a href=\"https://colab.research.google.com/github/RtjShreyD/Mandarin_NLP_trials/blob/master/Preprocess.ipynb\" target=\"_parent\"><img src=\"https://colab.research.google.com/assets/colab-badge.svg\" alt=\"Open In Colab\"/></a>"
      ]
    },
    {
      "cell_type": "code",
      "metadata": {
        "id": "f4OBMU3Yl2OZ",
        "colab_type": "code",
        "outputId": "03104a04-2899-43a0-ada2-dd68e2e2949b",
        "colab": {
          "base_uri": "https://localhost:8080/",
          "height": 124
        }
      },
      "source": [
        "from google.colab import drive\n",
        "drive.mount('/content/drive')"
      ],
      "execution_count": 0,
      "outputs": [
        {
          "output_type": "stream",
          "text": [
            "Go to this URL in a browser: https://accounts.google.com/o/oauth2/auth?client_id=947318989803-6bn6qk8qdgf4n4g3pfee6491hc0brc4i.apps.googleusercontent.com&redirect_uri=urn%3aietf%3awg%3aoauth%3a2.0%3aoob&response_type=code&scope=email%20https%3a%2f%2fwww.googleapis.com%2fauth%2fdocs.test%20https%3a%2f%2fwww.googleapis.com%2fauth%2fdrive%20https%3a%2f%2fwww.googleapis.com%2fauth%2fdrive.photos.readonly%20https%3a%2f%2fwww.googleapis.com%2fauth%2fpeopleapi.readonly\n",
            "\n",
            "Enter your authorization code:\n",
            "··········\n",
            "Mounted at /content/drive\n"
          ],
          "name": "stdout"
        }
      ]
    },
    {
      "cell_type": "code",
      "metadata": {
        "id": "tMqdiYyUoLAE",
        "colab_type": "code",
        "colab": {}
      },
      "source": [
        "import re\n",
        "import os\n",
        "import numpy as np\n",
        "import jieba\n",
        "import sys\n",
        "sys.path.append('/content/drive/My Drive/Mandarin')\n",
        "import util_prep as util\n",
        "from tensorflow.keras.preprocessing.text import Tokenizer\n",
        "from tensorflow.keras.preprocessing.sequence import pad_sequences\n",
        "from tensorflow.keras.utils import to_categorical"
      ],
      "execution_count": 0,
      "outputs": []
    },
    {
      "cell_type": "code",
      "metadata": {
        "id": "Rz9Y827Crzdz",
        "colab_type": "code",
        "colab": {}
      },
      "source": [
        "#===========input parameter ========================\n",
        "filename = '/content/drive/My Drive/Mandarin/cmn_simplied.txt'\n",
        "input_path = '/content/drive/My Drive/Mandarin/input/'\n",
        "max_len = 15\n",
        "max_vocab_size = 5000\n",
        "#==================================================="
      ],
      "execution_count": 0,
      "outputs": []
    },
    {
      "cell_type": "code",
      "metadata": {
        "id": "5ru4c5NPs07m",
        "colab_type": "code",
        "outputId": "80686c0d-f271-47af-e0b2-b1ba42d56296",
        "colab": {
          "base_uri": "https://localhost:8080/",
          "height": 52
        }
      },
      "source": [
        "data = util.load_and_clean_data(filename)\n",
        "data = data[:10000]\n",
        "\n",
        "src_tokenizer, src_vocab_size, src_max_len, encoder_input_seq = util.tokenize(data[:,0], max_len, max_vocab_size)\n",
        "tar_tokenizer, tar_vocab_size, tar_max_len, decoder_input_seq = util.tokenize(data[:,1], max_len, max_vocab_size)\n",
        "decoder_target_seq = decoder_input_seq[:,1:]\n",
        "decoder_input_seq = decoder_input_seq[:,:-1]\n",
        "\n",
        "print('max len: ' + str((src_max_len, tar_max_len)))\n",
        "print('vocab size: ' + str((src_vocab_size, tar_vocab_size)))\n",
        "\n",
        "util.save_object({'src_vocab_size': src_vocab_size, \n",
        "             'src_max_len': src_max_len, \n",
        "             'tar_vocab_size': tar_vocab_size, \n",
        "             'tar_max_len': tar_max_len}, input_path+'model_config.pkl')\n",
        "\n",
        "util.save_object((src_tokenizer, tar_tokenizer), input_path+'tokenizers.pkl')\n",
        "util.save_object((encoder_input_seq, decoder_input_seq, decoder_target_seq), input_path+'inputs.pkl')"
      ],
      "execution_count": 0,
      "outputs": [
        {
          "output_type": "stream",
          "text": [
            "max len: (9, 13)\n",
            "vocab size: (3603, 5000)\n"
          ],
          "name": "stdout"
        }
      ]
    },
    {
      "cell_type": "code",
      "metadata": {
        "id": "yf4dMasJucjF",
        "colab_type": "code",
        "colab": {}
      },
      "source": [
        ""
      ],
      "execution_count": 0,
      "outputs": []
    }
  ]
}